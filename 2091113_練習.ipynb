{
  "nbformat": 4,
  "nbformat_minor": 0,
  "metadata": {
    "colab": {
      "name": "2091113_練習.ipynb",
      "provenance": [],
      "collapsed_sections": [],
      "include_colab_link": true
    },
    "kernelspec": {
      "name": "python3",
      "display_name": "Python 3"
    }
  },
  "cells": [
    {
      "cell_type": "markdown",
      "metadata": {
        "id": "view-in-github",
        "colab_type": "text"
      },
      "source": [
        "<a href=\"https://colab.research.google.com/github/mackuo/article-resources/blob/master/2091113_%E7%B7%B4%E7%BF%92.ipynb\" target=\"_parent\"><img src=\"https://colab.research.google.com/assets/colab-badge.svg\" alt=\"Open In Colab\"/></a>"
      ]
    },
    {
      "cell_type": "code",
      "metadata": {
        "id": "NDvlpqweZgaq",
        "colab_type": "code",
        "outputId": "2f3bd9b8-7931-4375-8e36-6653497f5eb2",
        "colab": {
          "base_uri": "https://localhost:8080/",
          "height": 34
        }
      },
      "source": [
        "print (\"Hello, World\")"
      ],
      "execution_count": 0,
      "outputs": [
        {
          "output_type": "stream",
          "text": [
            "Hello, World\n"
          ],
          "name": "stdout"
        }
      ]
    },
    {
      "cell_type": "code",
      "metadata": {
        "id": "ATZ08SQrZvt-",
        "colab_type": "code",
        "outputId": "6aa6e217-94ff-4580-9a36-b49e5788eef4",
        "colab": {
          "base_uri": "https://localhost:8080/",
          "height": 118
        }
      },
      "source": [
        "import pandas as pd\n",
        "import numpy as np\n",
        "s = pd.Series([7, 'Beijing', 2.17, -12344, 'Happy Birthday!'])\n",
        "s"
      ],
      "execution_count": 0,
      "outputs": [
        {
          "output_type": "execute_result",
          "data": {
            "text/plain": [
              "0                  7\n",
              "1            Beijing\n",
              "2               2.17\n",
              "3             -12344\n",
              "4    Happy Birthday!\n",
              "dtype: object"
            ]
          },
          "metadata": {
            "tags": []
          },
          "execution_count": 2
        }
      ]
    },
    {
      "cell_type": "code",
      "metadata": {
        "id": "IYw5rCIva6PH",
        "colab_type": "code",
        "outputId": "132f77d3-4660-45b9-dedc-fd4fcfb5abf5",
        "colab": {
          "base_uri": "https://localhost:8080/",
          "height": 118
        }
      },
      "source": [
        "s = pd.Series([7, 'Beijing', 2.17, -12344, 'Happy Birthday!'], index=['a','b', 'c', 'd', 'e'])\n",
        "s"
      ],
      "execution_count": 0,
      "outputs": [
        {
          "output_type": "execute_result",
          "data": {
            "text/plain": [
              "a                  7\n",
              "b            Beijing\n",
              "c               2.17\n",
              "d             -12344\n",
              "e    Happy Birthday!\n",
              "dtype: object"
            ]
          },
          "metadata": {
            "tags": []
          },
          "execution_count": 3
        }
      ]
    },
    {
      "cell_type": "code",
      "metadata": {
        "id": "4G2gkNsdbO57",
        "colab_type": "code",
        "outputId": "27f2f399-e1ed-4ace-9453-ea2920cca2b5",
        "colab": {
          "base_uri": "https://localhost:8080/",
          "height": 134
        }
      },
      "source": [
        "cities = {'Beijing': 55000, 'Shanghai': 60000, 'Shenzhen': 50000, 'Hangzhou': 20000, 'Guangzhou': 25000, 'Suzhou': None}\n",
        "# apts = pd.Series(cities)\n",
        "apts = pd.Series(cities, name=\"price\")\n",
        "apts"
      ],
      "execution_count": 0,
      "outputs": [
        {
          "output_type": "execute_result",
          "data": {
            "text/plain": [
              "Beijing      55000.0\n",
              "Shanghai     60000.0\n",
              "Shenzhen     50000.0\n",
              "Hangzhou     20000.0\n",
              "Guangzhou    25000.0\n",
              "Suzhou           NaN\n",
              "Name: price, dtype: float64"
            ]
          },
          "metadata": {
            "tags": []
          },
          "execution_count": 4
        }
      ]
    },
    {
      "cell_type": "code",
      "metadata": {
        "id": "3mp1pWpebbXj",
        "colab_type": "code",
        "outputId": "ec5f01a2-6c7a-409d-e8e7-c07b43896bf0",
        "colab": {
          "base_uri": "https://localhost:8080/",
          "height": 84
        }
      },
      "source": [
        "apts[[4, 3, 1]]"
      ],
      "execution_count": 0,
      "outputs": [
        {
          "output_type": "execute_result",
          "data": {
            "text/plain": [
              "Guangzhou    25000.0\n",
              "Hangzhou     20000.0\n",
              "Shanghai     60000.0\n",
              "Name: price, dtype: float64"
            ]
          },
          "metadata": {
            "tags": []
          },
          "execution_count": 5
        }
      ]
    },
    {
      "cell_type": "code",
      "metadata": {
        "id": "aXpmSDgJbrrS",
        "colab_type": "code",
        "outputId": "ef17e0c6-5303-46bc-e7d0-830bd55c7484",
        "colab": {
          "base_uri": "https://localhost:8080/",
          "height": 118
        }
      },
      "source": [
        "apts[1:]"
      ],
      "execution_count": 0,
      "outputs": [
        {
          "output_type": "execute_result",
          "data": {
            "text/plain": [
              "Shanghai     60000.0\n",
              "Shenzhen     50000.0\n",
              "Hangzhou     20000.0\n",
              "Guangzhou    25000.0\n",
              "Suzhou           NaN\n",
              "Name: price, dtype: float64"
            ]
          },
          "metadata": {
            "tags": []
          },
          "execution_count": 7
        }
      ]
    },
    {
      "cell_type": "code",
      "metadata": {
        "id": "9PP8UPMvcFkT",
        "colab_type": "code",
        "outputId": "5c16ceb2-c9b4-4272-89d7-cc7af5152cde",
        "colab": {
          "base_uri": "https://localhost:8080/",
          "height": 118
        }
      },
      "source": [
        "apts[:-1]"
      ],
      "execution_count": 0,
      "outputs": [
        {
          "output_type": "execute_result",
          "data": {
            "text/plain": [
              "Beijing      55000.0\n",
              "Shanghai     60000.0\n",
              "Shenzhen     50000.0\n",
              "Hangzhou     20000.0\n",
              "Guangzhou    25000.0\n",
              "Name: price, dtype: float64"
            ]
          },
          "metadata": {
            "tags": []
          },
          "execution_count": 8
        }
      ]
    },
    {
      "cell_type": "code",
      "metadata": {
        "id": "Wb8LjdBlcPua",
        "colab_type": "code",
        "outputId": "614404ab-8862-4cad-9a57-ee69af4ddd4b",
        "colab": {
          "base_uri": "https://localhost:8080/",
          "height": 134
        }
      },
      "source": [
        "apts[1:] + apts[:-1]"
      ],
      "execution_count": 0,
      "outputs": [
        {
          "output_type": "execute_result",
          "data": {
            "text/plain": [
              "Beijing           NaN\n",
              "Guangzhou     50000.0\n",
              "Hangzhou      40000.0\n",
              "Shanghai     120000.0\n",
              "Shenzhen     100000.0\n",
              "Suzhou            NaN\n",
              "Name: price, dtype: float64"
            ]
          },
          "metadata": {
            "tags": []
          },
          "execution_count": 9
        }
      ]
    },
    {
      "cell_type": "code",
      "metadata": {
        "id": "dz0OKhzccWgi",
        "colab_type": "code",
        "outputId": "d457aa0b-dc4b-43cd-bf38-a622d66111e2",
        "colab": {
          "base_uri": "https://localhost:8080/",
          "height": 34
        }
      },
      "source": [
        "apts.index"
      ],
      "execution_count": 0,
      "outputs": [
        {
          "output_type": "execute_result",
          "data": {
            "text/plain": [
              "Index(['Beijing', 'Shanghai', 'Shenzhen', 'Hangzhou', 'Guangzhou', 'Suzhou'], dtype='object')"
            ]
          },
          "metadata": {
            "tags": []
          },
          "execution_count": 10
        }
      ]
    },
    {
      "cell_type": "code",
      "metadata": {
        "id": "57llD5Obcj29",
        "colab_type": "code",
        "outputId": "7fe6c977-07c7-4648-be58-9b21f55d27d0",
        "colab": {
          "base_uri": "https://localhost:8080/",
          "height": 34
        }
      },
      "source": [
        "apts[\"Hangzhou\"]"
      ],
      "execution_count": 0,
      "outputs": [
        {
          "output_type": "execute_result",
          "data": {
            "text/plain": [
              "20000.0"
            ]
          },
          "metadata": {
            "tags": []
          },
          "execution_count": 11
        }
      ]
    },
    {
      "cell_type": "code",
      "metadata": {
        "id": "DujYwpSmco0D",
        "colab_type": "code",
        "outputId": "5da44688-f231-4341-f0c7-eba3b5889577",
        "colab": {
          "base_uri": "https://localhost:8080/",
          "height": 34
        }
      },
      "source": [
        "\"Hangzhou\" in apts"
      ],
      "execution_count": 0,
      "outputs": [
        {
          "output_type": "execute_result",
          "data": {
            "text/plain": [
              "True"
            ]
          },
          "metadata": {
            "tags": []
          },
          "execution_count": 12
        }
      ]
    },
    {
      "cell_type": "code",
      "metadata": {
        "id": "e52TpZPXcweS",
        "colab_type": "code",
        "outputId": "743868f6-bb6d-4189-b83d-5a3c26975930",
        "colab": {
          "base_uri": "https://localhost:8080/",
          "height": 34
        }
      },
      "source": [
        "apts.get(\"Hangzhou\")"
      ],
      "execution_count": 0,
      "outputs": [
        {
          "output_type": "execute_result",
          "data": {
            "text/plain": [
              "20000.0"
            ]
          },
          "metadata": {
            "tags": []
          },
          "execution_count": 15
        }
      ]
    },
    {
      "cell_type": "code",
      "metadata": {
        "id": "ZTVV1P95dA7K",
        "colab_type": "code",
        "outputId": "7d2c934c-420d-431f-d9b7-b9765af6591e",
        "colab": {
          "base_uri": "https://localhost:8080/",
          "height": 67
        }
      },
      "source": [
        "apts[apts < 50000]"
      ],
      "execution_count": 0,
      "outputs": [
        {
          "output_type": "execute_result",
          "data": {
            "text/plain": [
              "Hangzhou     20000.0\n",
              "Guangzhou    25000.0\n",
              "Name: price, dtype: float64"
            ]
          },
          "metadata": {
            "tags": []
          },
          "execution_count": 17
        }
      ]
    },
    {
      "cell_type": "code",
      "metadata": {
        "id": "Oovjj6gwdWVS",
        "colab_type": "code",
        "outputId": "726a8e4d-4e0c-4145-eb71-92a4705163c7",
        "colab": {
          "base_uri": "https://localhost:8080/",
          "height": 134
        }
      },
      "source": [
        "less_than_50000 = apts < 50000\n",
        "print(less_than_50000)"
      ],
      "execution_count": 0,
      "outputs": [
        {
          "output_type": "stream",
          "text": [
            "Beijing      False\n",
            "Shanghai     False\n",
            "Shenzhen     False\n",
            "Hangzhou      True\n",
            "Guangzhou     True\n",
            "Suzhou       False\n",
            "Name: price, dtype: bool\n"
          ],
          "name": "stdout"
        }
      ]
    },
    {
      "cell_type": "code",
      "metadata": {
        "id": "4MNiKILBdw2K",
        "colab_type": "code",
        "outputId": "08b7d319-a1bf-4df7-8628-b14a718da8a7",
        "colab": {
          "base_uri": "https://localhost:8080/",
          "height": 134
        }
      },
      "source": [
        "apts.notnull()"
      ],
      "execution_count": 0,
      "outputs": [
        {
          "output_type": "execute_result",
          "data": {
            "text/plain": [
              "Beijing       True\n",
              "Shanghai      True\n",
              "Shenzhen      True\n",
              "Hangzhou      True\n",
              "Guangzhou     True\n",
              "Suzhou       False\n",
              "Name: price, dtype: bool"
            ]
          },
          "metadata": {
            "tags": []
          },
          "execution_count": 21
        }
      ]
    },
    {
      "cell_type": "code",
      "metadata": {
        "id": "6fYOpTx1iczl",
        "colab_type": "code",
        "outputId": "7bed1adc-26b3-45ea-97f8-b61a1b7f67f6",
        "colab": {
          "base_uri": "https://localhost:8080/",
          "height": 134
        }
      },
      "source": [
        "data = {'city': ['Beijing', 'Shanghai', 'Guangzhou', 'Shenzhen', 'Hangzhou', 'Chongqing'],\n",
        "       'year': [2016,2017,2016,2017,2016, 2016],\n",
        "       'population': [2100, 2300, 1000, 700, 500, 500]}\n",
        "print(pd.DataFrame(data))"
      ],
      "execution_count": 0,
      "outputs": [
        {
          "output_type": "stream",
          "text": [
            "        city  year  population\n",
            "0    Beijing  2016        2100\n",
            "1   Shanghai  2017        2300\n",
            "2  Guangzhou  2016        1000\n",
            "3   Shenzhen  2017         700\n",
            "4   Hangzhou  2016         500\n",
            "5  Chongqing  2016         500\n"
          ],
          "name": "stdout"
        }
      ]
    },
    {
      "cell_type": "code",
      "metadata": {
        "id": "bCjaEQnissvz",
        "colab_type": "code",
        "outputId": "e1882d0e-36e1-40fd-e9cd-c3f52ee3f67a",
        "colab": {
          "base_uri": "https://localhost:8080/",
          "height": 195
        }
      },
      "source": [
        "import pandas as pd\n",
        "price = pd.Series([20, 2, 3, 50, 40],\n",
        "             index=[\"Apple\", \"Banana\", \"Orange\", \"Watermelon\", \"Strawberry\"])\n",
        "unit = pd.Series([\"kg\", \"each\", \"each\", \"each\", \"kg\"],\n",
        "             index=[\"Apple\", \"Banana\", \"Orange\", \"Watermelon\", \"Strawberry\"])\n",
        "amount = pd.Series([5, 10, 6, 1, 2],\n",
        "             index=[\"Apple\", \"Banana\", \"Orange\", \"Watermelon\", \"Strawberry\"])\n",
        "df = pd.DataFrame({\"price\":price, \"unit\":unit, \"amount\":amount}, columns=[\"price\", \"unit\", \"amount\"])\n",
        "df"
      ],
      "execution_count": 0,
      "outputs": [
        {
          "output_type": "execute_result",
          "data": {
            "text/html": [
              "<div>\n",
              "<style scoped>\n",
              "    .dataframe tbody tr th:only-of-type {\n",
              "        vertical-align: middle;\n",
              "    }\n",
              "\n",
              "    .dataframe tbody tr th {\n",
              "        vertical-align: top;\n",
              "    }\n",
              "\n",
              "    .dataframe thead th {\n",
              "        text-align: right;\n",
              "    }\n",
              "</style>\n",
              "<table border=\"1\" class=\"dataframe\">\n",
              "  <thead>\n",
              "    <tr style=\"text-align: right;\">\n",
              "      <th></th>\n",
              "      <th>price</th>\n",
              "      <th>unit</th>\n",
              "      <th>amount</th>\n",
              "    </tr>\n",
              "  </thead>\n",
              "  <tbody>\n",
              "    <tr>\n",
              "      <th>Apple</th>\n",
              "      <td>20</td>\n",
              "      <td>kg</td>\n",
              "      <td>5</td>\n",
              "    </tr>\n",
              "    <tr>\n",
              "      <th>Banana</th>\n",
              "      <td>2</td>\n",
              "      <td>each</td>\n",
              "      <td>10</td>\n",
              "    </tr>\n",
              "    <tr>\n",
              "      <th>Orange</th>\n",
              "      <td>3</td>\n",
              "      <td>each</td>\n",
              "      <td>6</td>\n",
              "    </tr>\n",
              "    <tr>\n",
              "      <th>Watermelon</th>\n",
              "      <td>50</td>\n",
              "      <td>each</td>\n",
              "      <td>1</td>\n",
              "    </tr>\n",
              "    <tr>\n",
              "      <th>Strawberry</th>\n",
              "      <td>40</td>\n",
              "      <td>kg</td>\n",
              "      <td>2</td>\n",
              "    </tr>\n",
              "  </tbody>\n",
              "</table>\n",
              "</div>"
            ],
            "text/plain": [
              "            price  unit  amount\n",
              "Apple          20    kg       5\n",
              "Banana          2  each      10\n",
              "Orange          3  each       6\n",
              "Watermelon     50  each       1\n",
              "Strawberry     40    kg       2"
            ]
          },
          "metadata": {
            "tags": []
          },
          "execution_count": 6
        }
      ]
    },
    {
      "cell_type": "code",
      "metadata": {
        "id": "zTl8pFQZY4t7",
        "colab_type": "code",
        "outputId": "cb92ee96-f1f1-4cfa-833f-93e87be07b0a",
        "colab": {
          "base_uri": "https://localhost:8080/",
          "height": 34
        }
      },
      "source": [
        "print (\"Hello World!\")"
      ],
      "execution_count": 0,
      "outputs": [
        {
          "output_type": "stream",
          "text": [
            "Hello World!\n"
          ],
          "name": "stdout"
        }
      ]
    },
    {
      "cell_type": "code",
      "metadata": {
        "id": "FTC6W5i9pfot",
        "colab_type": "code",
        "outputId": "ba0352a5-9abf-466d-9a15-4219d89980c7",
        "colab": {
          "base_uri": "https://localhost:8080/",
          "height": 34
        }
      },
      "source": [
        "abs(4)"
      ],
      "execution_count": 0,
      "outputs": [
        {
          "output_type": "execute_result",
          "data": {
            "text/plain": [
              "4"
            ]
          },
          "metadata": {
            "tags": []
          },
          "execution_count": 9
        }
      ]
    },
    {
      "cell_type": "code",
      "metadata": {
        "id": "tHvyWj4QpnSx",
        "colab_type": "code",
        "outputId": "cbb7f663-626e-4e2d-a11d-a1a040c5e78e",
        "colab": {
          "base_uri": "https://localhost:8080/",
          "height": 34
        }
      },
      "source": [
        "abs(-4)"
      ],
      "execution_count": 0,
      "outputs": [
        {
          "output_type": "execute_result",
          "data": {
            "text/plain": [
              "4"
            ]
          },
          "metadata": {
            "tags": []
          },
          "execution_count": 11
        }
      ]
    },
    {
      "cell_type": "code",
      "metadata": {
        "id": "S1Qf-fKPpqvb",
        "colab_type": "code",
        "colab": {
          "base_uri": "https://localhost:8080/",
          "height": 34
        },
        "outputId": "012e2662-9c66-4213-d000-802a20288316"
      },
      "source": [
        "mySting = \"Hello, World\"\n",
        "mySting"
      ],
      "execution_count": 12,
      "outputs": [
        {
          "output_type": "execute_result",
          "data": {
            "text/plain": [
              "'Hello, World'"
            ]
          },
          "metadata": {
            "tags": []
          },
          "execution_count": 12
        }
      ]
    },
    {
      "cell_type": "code",
      "metadata": {
        "id": "LBcrgmbHw7EP",
        "colab_type": "code",
        "colab": {
          "base_uri": "https://localhost:8080/",
          "height": 34
        },
        "outputId": "519fbe4e-8228-4cfb-af85-82fbc1a0483c"
      },
      "source": [
        "_"
      ],
      "execution_count": 13,
      "outputs": [
        {
          "output_type": "execute_result",
          "data": {
            "text/plain": [
              "'Hello, World'"
            ]
          },
          "metadata": {
            "tags": []
          },
          "execution_count": 13
        }
      ]
    },
    {
      "cell_type": "code",
      "metadata": {
        "id": "YsVePltaw7-c",
        "colab_type": "code",
        "colab": {
          "base_uri": "https://localhost:8080/",
          "height": 34
        },
        "outputId": "2c9c6625-3393-4cc1-a4d2-90da6d9ecd2d"
      },
      "source": [
        "print(\"%s is number %d!\" % (\"Python\",1))"
      ],
      "execution_count": 15,
      "outputs": [
        {
          "output_type": "stream",
          "text": [
            "Python is number 1!\n"
          ],
          "name": "stdout"
        }
      ]
    },
    {
      "cell_type": "code",
      "metadata": {
        "id": "wzLC1ifXxXzF",
        "colab_type": "code",
        "colab": {
          "base_uri": "https://localhost:8080/",
          "height": 50
        },
        "outputId": "d037ea79-6afa-4646-fd82-7aaea576bd05"
      },
      "source": [
        "user = input('Enter login name:')\n",
        "print('Your login is:', user)\n"
      ],
      "execution_count": 19,
      "outputs": [
        {
          "output_type": "stream",
          "text": [
            "Enter login name:Kuo\n",
            "Your login is: Kuo\n"
          ],
          "name": "stdout"
        }
      ]
    },
    {
      "cell_type": "code",
      "metadata": {
        "id": "W5UmoYIS0Jw8",
        "colab_type": "code",
        "colab": {
          "base_uri": "https://localhost:8080/",
          "height": 50
        },
        "outputId": "3c47da50-6668-44d7-b0fe-db6fc0974904"
      },
      "source": [
        "num = int(input('Now enter a number:'))\n",
        "print('double your number:', num*2)"
      ],
      "execution_count": 20,
      "outputs": [
        {
          "output_type": "stream",
          "text": [
            "Now enter a number:1024\n",
            "double your number: 2048\n"
          ],
          "name": "stdout"
        }
      ]
    },
    {
      "cell_type": "code",
      "metadata": {
        "id": "fHSnvvyQ4gyK",
        "colab_type": "code",
        "colab": {}
      },
      "source": [
        ""
      ],
      "execution_count": 0,
      "outputs": []
    }
  ]
}